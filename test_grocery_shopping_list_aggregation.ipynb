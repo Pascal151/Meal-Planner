{
 "cells": [
  {
   "cell_type": "markdown",
   "metadata": {},
   "source": [
    "# Grocery Shopping List Aggregation Test\n",
    "\n",
    "This notebook checks wether the aggregation that is done on the grocery shopping list work in this particular way:\n",
    "If the metric and the ingredient name is the same, all items are collected into one row while summing up the respective quantities.\n",
    "\n",
    "First lets fetch all the function we need."
   ]
  },
  {
   "cell_type": "code",
   "execution_count": 1,
   "metadata": {},
   "outputs": [],
   "source": [
    "import pandas as pd\n",
    "from typing import Tuple, List"
   ]
  },
  {
   "cell_type": "markdown",
   "metadata": {},
   "source": [
    "Make sure to enter a high amount of meals, the meal planner should prepare for you to test the grocery shopping list aggregation. I choose 15."
   ]
  },
  {
   "cell_type": "code",
   "execution_count": 2,
   "metadata": {},
   "outputs": [
    {
     "name": "stdout",
     "output_type": "stream",
     "text": [
      "For how many days do you want to plan your meals?\n",
      "\n",
      "okay! let me prepare a meal plan for you...\n"
     ]
    }
   ],
   "source": [
    "from inputs.fetch_user_pecific_needs import fetch_user_specific_needs\n",
    "from inputs.fetch_meals import fetch_available_meals\n",
    "from processing.meal_planner import get_meal_plan_data_list"
   ]
  },
  {
   "cell_type": "markdown",
   "metadata": {},
   "source": [
    "Lets costumize the output function - meal_plan_presenter - for our notebook here."
   ]
  },
  {
   "cell_type": "code",
   "execution_count": 28,
   "metadata": {},
   "outputs": [],
   "source": [
    "TupleType = Tuple[int, str, str]\n",
    "\n",
    "def present_meal_plan(meal_plan_data_list):\n",
    "    print(\"grocery shopping list:\")\n",
    "    ingridients_tuple_list : List(TupleType) = [tup for sublist in meal_plan_data_list[3] for tup in sublist]\n",
    "    grocery_shopping_list = (\n",
    "        pd.DataFrame(ingridients_tuple_list, columns=['amount', 'metric', 'ingredient'])\n",
    "        .dropna(subset=['amount', 'metric', 'ingredient'])\n",
    "        .astype({'amount': 'int32', 'metric': 'string', 'ingredient': 'string'})\n",
    "        .groupby(['metric', 'ingredient'], as_index=False).agg({'amount': 'sum'})\n",
    "    )\n",
    "    print(grocery_shopping_list)"
   ]
  },
  {
   "cell_type": "markdown",
   "metadata": {},
   "source": [
    "Lets ececute a part of the code bases code to get a meal plan sample to wotk on."
   ]
  },
  {
   "cell_type": "code",
   "execution_count": 23,
   "metadata": {},
   "outputs": [],
   "source": [
    "available_meals = fetch_available_meals()\n",
    "user_spefifications = fetch_user_specific_needs()\n",
    "meal_plan_data_list = get_meal_plan_data_list(available_meals, user_spefifications)"
   ]
  },
  {
   "cell_type": "code",
   "execution_count": 29,
   "metadata": {},
   "outputs": [
    {
     "name": "stdout",
     "output_type": "stream",
     "text": [
      "grocery shopping list:\n",
      "     metric           ingredient  amount\n",
      "0                    bell pepper       4\n",
      "1                       cucumber       5\n",
      "2                            egg       3\n",
      "3                       eggplant       3\n",
      "4                           eggs       4\n",
      "5                  garlic cloves      37\n",
      "6                  garlic kloves      12\n",
      "7                     lamb chops      12\n",
      "8                          lemon       2\n",
      "9                          onion      11\n",
      "10                        onions       8\n",
      "11           phyllo dough sheets      24\n",
      "12                    pita bread      12\n",
      "13                     red onion       4\n",
      "14                   taco shells       6\n",
      "15                      tomatoes       8\n",
      "16                tortilla wraps       8\n",
      "17                      zucchini       3\n",
      "18      can         tomato sauce       4\n",
      "19        g         arborio rice     300\n",
      "20        g            asparagus     300\n",
      "21        g         bulgur wheat     100\n",
      "22        g               butter     150\n",
      "23        g       cheddar cheese     100\n",
      "24        g            chickpeas    1000\n",
      "25        g          feta cheese     700\n",
      "26        g                flour      60\n",
      "27        g          ground beef    1900\n",
      "28        g      kalamata olives      50\n",
      "29        g              lettuce      50\n",
      "30        g                 mint      10\n",
      "31        g    mozzarella cheese     150\n",
      "32        g            mushrooms     200\n",
      "33        g      parmesan cheese      50\n",
      "34        g              parsley      50\n",
      "35        g        salmon fillet     400\n",
      "36        g            spaghetti    2000\n",
      "37        g              spinach    1500\n",
      "38        g         tahini sauce     100\n",
      "39        g         tomato puree     400\n",
      "40        g             tomatoes    2000\n",
      "41        g               yogurt     450\n",
      "42       ml     balsamic vinegar      30\n",
      "43       ml          lemon juice     130\n",
      "44       ml            olive oil     930\n",
      "45       ml     red wine vinegar      10\n",
      "46       ml           sour cream      30\n",
      "47       ml               tahini      90\n",
      "48       ml      vegetable broth     750\n",
      "49  sclices         gouda cheese      16\n",
      "50   slices                bread      16\n"
     ]
    }
   ],
   "source": [
    "pd.set_option('display.max_rows', None)\n",
    "grocery_shopping_list = present_meal_plan(meal_plan_data_list)\n",
    "\n",
    "grocery_shopping_list"
   ]
  },
  {
   "cell_type": "markdown",
   "metadata": {},
   "source": [
    "Lets only show the rows of the pandas df that have a metric for their ingridients. Since only those will be aggregated."
   ]
  },
  {
   "cell_type": "code",
   "execution_count": 25,
   "metadata": {},
   "outputs": [
    {
     "ename": "TypeError",
     "evalue": "'NoneType' object is not subscriptable",
     "output_type": "error",
     "traceback": [
      "\u001b[1;31m---------------------------------------------------------------------------\u001b[0m",
      "\u001b[1;31mTypeError\u001b[0m                                 Traceback (most recent call last)",
      "Cell \u001b[1;32mIn[25], line 1\u001b[0m\n\u001b[1;32m----> 1\u001b[0m \u001b[43mgrocery_shopping_list\u001b[49m\u001b[43m[\u001b[49m\u001b[38;5;124;43m'\u001b[39;49m\u001b[38;5;124;43mmetric\u001b[39;49m\u001b[38;5;124;43m'\u001b[39;49m\u001b[43m]\u001b[49m \u001b[38;5;241m!=\u001b[39m \u001b[38;5;124m'\u001b[39m\u001b[38;5;124m'\u001b[39m\n",
      "\u001b[1;31mTypeError\u001b[0m: 'NoneType' object is not subscriptable"
     ]
    }
   ],
   "source": [
    "grocery_shopping_list['metric'] != ''"
   ]
  },
  {
   "cell_type": "code",
   "execution_count": null,
   "metadata": {},
   "outputs": [],
   "source": []
  }
 ],
 "metadata": {
  "kernelspec": {
   "display_name": "Python 3",
   "language": "python",
   "name": "python3"
  },
  "language_info": {
   "codemirror_mode": {
    "name": "ipython",
    "version": 3
   },
   "file_extension": ".py",
   "mimetype": "text/x-python",
   "name": "python",
   "nbconvert_exporter": "python",
   "pygments_lexer": "ipython3",
   "version": "3.11.2"
  }
 },
 "nbformat": 4,
 "nbformat_minor": 2
}
