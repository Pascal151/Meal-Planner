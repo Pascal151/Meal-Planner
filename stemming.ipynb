{
 "cells": [
  {
   "cell_type": "markdown",
   "metadata": {},
   "source": [
    "# Stemming and Lemmatizing for Ingridients\n",
    "\n",
    "This notebook explores different stemming and lemmatizing methods to standardize the ingridient list of the recepies."
   ]
  },
  {
   "cell_type": "code",
   "execution_count": 1,
   "metadata": {},
   "outputs": [],
   "source": [
    "import nltk"
   ]
  },
  {
   "cell_type": "code",
   "execution_count": 2,
   "metadata": {},
   "outputs": [
    {
     "name": "stdout",
     "output_type": "stream",
     "text": [
      "{'Tomato soup and cheese bread': [(500, 'g', 'tomato'), (2, '', 'onions'), (3, '', 'garlic cloves'), (30, 'ml', 'olive oil'), (4, 'slices', 'bread'), (4, 'sclices', 'gouda chees')], 'Aglio olio': [(3, '', 'garlic cloves'), (30, 'ml', 'olive oil'), (350, 'g', 'pasta'), (None, '', 'parsley')], 'Chicken Caesar Salad': [(200, 'g', 'chicken breast'), (100, 'g', 'romaine lettuc'), (50, 'g', 'crouton'), (50, 'g', 'parmesan chees'), (30, 'ml', 'caesar dress'), (2, '', 'boiled eggs'), (20, 'ml', 'olive oil')], 'Spaghetti Bolognese': [(400, 'g', 'ground beef'), (500, 'g', 'spaghetti'), (1, 'can', 'tomato sauc'), (1, '', 'onion'), (2, '', 'garlic cloves'), (30, 'ml', 'olive oil'), (None, '', 'fresh basil')], 'Vegetable Stir Fry': [(200, 'g', 'broccoli'), (1, '', 'carrot'), (1, '', 'bell pepper'), (100, 'g', 'snap pea'), (2, '', 'garlic cloves'), (30, 'ml', 'soy sauc'), (10, 'ml', 'sesame oil'), (None, '', 'green onions')], 'Beef Tacos': [(300, 'g', 'ground beef'), (6, '', 'taco shells'), (100, 'g', 'cheddar chees'), (50, 'g', 'lettuc'), (2, '', 'tomatoes'), (30, 'ml', 'sour cream'), (None, '', 'taco seasoning')], 'Grilled Salmon with Asparagus': [(200, 'g', 'salmon fillet'), (150, 'g', 'asparagu'), (1, '', 'lemon'), (30, 'ml', 'olive oil'), (None, '', 'fresh dill'), (None, '', 'salt and pepper')], 'Mushroom Risotto': [(300, 'g', 'arborio ric'), (200, 'g', 'mushroom'), (1, '', 'onion'), (2, '', 'garlic cloves'), (50, 'g', 'parmesan chees'), (30, 'ml', 'olive oil'), (750, 'ml', 'vegetable broth')], 'Caprese Salad': [(2, '', 'tomatoes'), (150, 'g', 'mozzarella chees'), (30, 'ml', 'olive oil'), (None, '', 'basil leaves'), (None, '', 'balsamic glaze')], 'Greek Salad': [(2, '', 'tomatoes'), (1, '', 'cucumber'), (1, '', 'red onion'), (100, 'g', 'feta chees'), (50, 'g', 'kalamata ol'), (30, 'ml', 'olive oil'), (10, 'ml', 'red wine vinegar'), (None, '', 'oregano')], 'Shakshuka': [(1, '', 'onion'), (1, '', 'bell pepper'), (3, '', 'garlic cloves'), (400, 'g', 'tomato pure'), (4, '', 'eggs'), (30, 'ml', 'olive oil'), (None, '', 'cumin'), (None, '', 'paprika'), (None, '', 'parsley')], 'Grilled Lamb Chops with Tzatziki': [(4, '', 'lamb chops'), (150, 'g', 'yogurt'), (1, '', 'cucumber'), (2, '', 'garlic cloves'), (10, 'ml', 'lemon juic'), (30, 'ml', 'olive oil'), (None, '', 'fresh mint'), (None, '', 'dill')], 'Spanakopita': [(500, 'g', 'spinach'), (200, 'g', 'feta chees'), (1, '', 'onion'), (2, '', 'garlic cloves'), (1, '', 'egg'), (8, '', 'phyllo dough sheets'), (50, 'g', 'butter'), (30, 'ml', 'olive oil')], 'Falafel Wrap': [(200, 'g', 'chickpea'), (1, '', 'onion'), (3, '', 'garlic cloves'), (30, 'g', 'flour'), (10, 'g', 'parsley'), (30, 'ml', 'olive oil'), (4, '', 'tortilla wraps'), (50, 'g', 'tahini sauc'), (None, '', 'lettuce leaves'), (None, '', 'tomato slices')], 'Hummus and Pita Bread': [(200, 'g', 'chickpea'), (2, '', 'garlic cloves'), (30, 'ml', 'tahini'), (30, 'ml', 'lemon juic'), (50, 'ml', 'olive oil'), (4, '', 'pita bread'), (None, '', 'paprika'), (None, '', 'cumin')], 'Tabbouleh': [(100, 'g', 'bulgur wheat'), (2, '', 'tomatoes'), (1, '', 'cucumber'), (30, 'g', 'parsley'), (10, 'g', 'mint'), (30, 'ml', 'olive oil'), (10, 'ml', 'lemon juic'), (None, '', 'green onions')], 'Stuffed Bell Peppers': [(4, '', 'bell peppers'), (200, 'g', 'ground beef'), (100, 'g', 'rice'), (1, '', 'onion'), (2, '', 'garlic cloves'), (400, 'g', 'tomato sauc'), (30, 'ml', 'olive oil'), (50, 'g', 'feta chees'), (None, '', 'parsley')], 'Mediterranean Grilled Vegetables': [(1, '', 'zucchini'), (1, '', 'eggplant'), (1, '', 'bell pepper'), (1, '', 'red onion'), (30, 'ml', 'olive oil'), (10, 'ml', 'balsamic vinegar'), (None, '', 'thyme'), (None, '', 'oregano')], 'Seafood Paella': [(200, 'g', 'shrimp'), (200, 'g', 'mussel'), (300, 'g', 'paella ric'), (1, '', 'onion'), (3, '', 'garlic cloves'), (1, 'l', 'fish stock'), (100, 'g', 'pea'), (1, '', 'bell pepper'), (30, 'ml', 'olive oil'), (None, '', 'saffron')]}\n"
     ]
    }
   ],
   "source": [
    "available_meals = {\n",
    "    \"Tomato soup and cheese bread\": [(500, \"g\", \"tomatoes\"), (2, \"\", \"onions\"), (3, \"\", \"garlic cloves\"), (30, \"ml\", \"olive oil\"), (4, \"slices\", \"bread\"), (4, \"sclices\", \"gouda cheese\")], #TODO: optional ingridients\n",
    "    \"Aglio olio\": [(3, \"\", \"garlic cloves\"), (30, \"ml\", \"olive oil\"), (350, \"g\", \"pasta\"), (None, \"\", \"parsley\")],\n",
    "    \"Chicken Caesar Salad\": [(200, \"g\", \"chicken breast\"), (100, \"g\", \"romaine lettuce\"), (50, \"g\", \"croutons\"), (50, \"g\", \"parmesan cheese\"), (30, \"ml\", \"Caesar dressing\"), (2, \"\", \"boiled eggs\"), (20, \"ml\", \"olive oil\")],\n",
    "    \"Spaghetti Bolognese\": [(400, \"g\", \"ground beef\"), (500, \"g\", \"spaghetti\"), (1, \"can\", \"tomato sauce\"), (1, \"\", \"onion\"), (2, \"\", \"garlic cloves\"), (30, \"ml\", \"olive oil\"), (None, \"\", \"fresh basil\")],\n",
    "    \"Vegetable Stir Fry\": [(200, \"g\", \"broccoli\"), (1, \"\", \"carrot\"), (1, \"\", \"bell pepper\"), (100, \"g\", \"snap peas\"), (2, \"\", \"garlic cloves\"), (30, \"ml\", \"soy sauce\"), (10, \"ml\", \"sesame oil\"), (None, \"\", \"green onions\")],\n",
    "    \"Beef Tacos\": [(300, \"g\", \"ground beef\"), (6, \"\", \"taco shells\"), (100, \"g\", \"cheddar cheese\"), (50, \"g\", \"lettuce\"), (2, \"\", \"tomatoes\"), (30, \"ml\", \"sour cream\"), (None, \"\", \"taco seasoning\")],\n",
    "    \"Grilled Salmon with Asparagus\": [(200, \"g\", \"salmon fillet\"), (150, \"g\", \"asparagus\"), (1, \"\", \"lemon\"), (30, \"ml\", \"olive oil\"), (None, \"\", \"fresh dill\"), (None, \"\", \"salt and pepper\")],\n",
    "    \"Mushroom Risotto\": [(300, \"g\", \"arborio rice\"), (200, \"g\", \"mushrooms\"), (1, \"\", \"onion\"), (2, \"\", \"garlic cloves\"), (50, \"g\", \"parmesan cheese\"), (30, \"ml\", \"olive oil\"), (750, \"ml\", \"vegetable broth\")],\n",
    "    \"Caprese Salad\": [(2, \"\", \"tomatoes\"), (150, \"g\", \"mozzarella cheese\"), (30, \"ml\", \"olive oil\"), (None, \"\", \"basil leaves\"), (None, \"\", \"balsamic glaze\")],\n",
    "    \"Greek Salad\": [(2, \"\", \"tomatoes\"), (1, \"\", \"cucumber\"), (1, \"\", \"red onion\"), (100, \"g\", \"feta cheese\"), (50, \"g\", \"kalamata olives\"), (30, \"ml\", \"olive oil\"), (10, \"ml\", \"red wine vinegar\"), (None, \"\", \"oregano\")],\n",
    "    \"Shakshuka\": [(1, \"\", \"onion\"), (1, \"\", \"bell pepper\"), (3, \"\", \"garlic cloves\"), (400, \"g\", \"tomato puree\"), (4, \"\", \"eggs\"), (30, \"ml\", \"olive oil\"), (None, \"\", \"cumin\"), (None, \"\", \"paprika\"), (None, \"\", \"parsley\")],\n",
    "    \"Grilled Lamb Chops with Tzatziki\": [(4, \"\", \"lamb chops\"), (150, \"g\", \"yogurt\"), (1, \"\", \"cucumber\"), (2, \"\", \"garlic cloves\"), (10, \"ml\", \"lemon juice\"), (30, \"ml\", \"olive oil\"), (None, \"\", \"fresh mint\"), (None, \"\", \"dill\")],\n",
    "    \"Spanakopita\": [(500, \"g\", \"spinach\"), (200, \"g\", \"feta cheese\"), (1, \"\", \"onion\"), (2, \"\", \"garlic cloves\"), (1, \"\", \"egg\"), (8, \"\", \"phyllo dough sheets\"), (50, \"g\", \"butter\"), (30, \"ml\", \"olive oil\")],\n",
    "    \"Falafel Wrap\": [(200, \"g\", \"chickpeas\"), (1, \"\", \"onion\"), (3, \"\", \"garlic cloves\"), (30, \"g\", \"flour\"), (10, \"g\", \"parsley\"), (30, \"ml\", \"olive oil\"), (4, \"\", \"tortilla wraps\"), (50, \"g\", \"tahini sauce\"), (None, \"\", \"lettuce leaves\"), (None, \"\", \"tomato slices\")],\n",
    "    \"Hummus and Pita Bread\": [(200, \"g\", \"chickpeas\"), (2, \"\", \"garlic cloves\"), (30, \"ml\", \"tahini\"), (30, \"ml\", \"lemon juice\"), (50, \"ml\", \"olive oil\"), (4, \"\", \"pita bread\"), (None, \"\", \"paprika\"), (None, \"\", \"cumin\")],\n",
    "    \"Tabbouleh\": [(100, \"g\", \"bulgur wheat\"), (2, \"\", \"tomatoes\"), (1, \"\", \"cucumber\"), (30, \"g\", \"parsley\"), (10, \"g\", \"mint\"), (30, \"ml\", \"olive oil\"), (10, \"ml\", \"lemon juice\"), (None, \"\", \"green onions\")],\n",
    "    \"Stuffed Bell Peppers\": [(4, \"\", \"bell peppers\"), (200, \"g\", \"ground beef\"), (100, \"g\", \"rice\"), (1, \"\", \"onion\"), (2, \"\", \"garlic cloves\"), (400, \"g\", \"tomato sauce\"), (30, \"ml\", \"olive oil\"), (50, \"g\", \"feta cheese\"), (None, \"\", \"parsley\")],\n",
    "    \"Mediterranean Grilled Vegetables\": [(1, \"\", \"zucchini\"), (1, \"\", \"eggplant\"), (1, \"\", \"bell pepper\"), (1, \"\", \"red onion\"), (30, \"ml\", \"olive oil\"), (10, \"ml\", \"balsamic vinegar\"), (None, \"\", \"thyme\"), (None, \"\", \"oregano\")],\n",
    "    \"Seafood Paella\": [(200, \"g\", \"shrimp\"), (200, \"g\", \"mussels\"), (300, \"g\", \"paella rice\"), (1, \"\", \"onion\"), (3, \"\", \"garlic cloves\"), (1, \"l\", \"fish stock\"), (100, \"g\", \"peas\"), (1, \"\", \"bell pepper\"), (30, \"ml\", \"olive oil\"), (None, \"\", \"saffron\")]\n",
    "}\n",
    "\n",
    "porter_stemmer = nltk.stem.PorterStemmer()\n",
    "\n",
    "for key, array in available_meals.items():\n",
    "    for i, (a, b, c) in enumerate(array):\n",
    "        if b != \"\":\n",
    "            stemmed_c = porter_stemmer.stem(c)\n",
    "            array[i] = (a, b, stemmed_c)\n",
    "\n",
    "print(available_meals)"
   ]
  },
  {
   "cell_type": "code",
   "execution_count": 3,
   "metadata": {},
   "outputs": [
    {
     "name": "stdout",
     "output_type": "stream",
     "text": [
      "{'Tomato soup and cheese bread': [(500, 'g', 'tomato'), (2, '', 'onions'), (3, '', 'garlic cloves'), (30, 'ml', 'olive oil'), (4, 'slices', 'bread'), (4, 'sclices', 'gouda chees')], 'Aglio olio': [(3, '', 'garlic cloves'), (30, 'ml', 'olive oil'), (350, 'g', 'pasta'), (None, '', 'parsley')], 'Chicken Caesar Salad': [(200, 'g', 'chicken breast'), (100, 'g', 'romaine lettuc'), (50, 'g', 'crouton'), (50, 'g', 'parmesan chees'), (30, 'ml', 'caesar dress'), (2, '', 'boiled eggs'), (20, 'ml', 'olive oil')], 'Spaghetti Bolognese': [(400, 'g', 'ground beef'), (500, 'g', 'spaghetti'), (1, 'can', 'tomato sauc'), (1, '', 'onion'), (2, '', 'garlic cloves'), (30, 'ml', 'olive oil'), (None, '', 'fresh basil')], 'Vegetable Stir Fry': [(200, 'g', 'broccoli'), (1, '', 'carrot'), (1, '', 'bell pepper'), (100, 'g', 'snap pea'), (2, '', 'garlic cloves'), (30, 'ml', 'soy sauc'), (10, 'ml', 'sesame oil'), (None, '', 'green onions')], 'Beef Tacos': [(300, 'g', 'ground beef'), (6, '', 'taco shells'), (100, 'g', 'cheddar chees'), (50, 'g', 'lettuc'), (2, '', 'tomatoes'), (30, 'ml', 'sour cream'), (None, '', 'taco seasoning')], 'Grilled Salmon with Asparagus': [(200, 'g', 'salmon fillet'), (150, 'g', 'asparagus'), (1, '', 'lemon'), (30, 'ml', 'olive oil'), (None, '', 'fresh dill'), (None, '', 'salt and pepper')], 'Mushroom Risotto': [(300, 'g', 'arborio ric'), (200, 'g', 'mushroom'), (1, '', 'onion'), (2, '', 'garlic cloves'), (50, 'g', 'parmesan chees'), (30, 'ml', 'olive oil'), (750, 'ml', 'vegetable broth')], 'Caprese Salad': [(2, '', 'tomatoes'), (150, 'g', 'mozzarella chees'), (30, 'ml', 'olive oil'), (None, '', 'basil leaves'), (None, '', 'balsamic glaze')], 'Greek Salad': [(2, '', 'tomatoes'), (1, '', 'cucumber'), (1, '', 'red onion'), (100, 'g', 'feta chees'), (50, 'g', 'kalamata ol'), (30, 'ml', 'olive oil'), (10, 'ml', 'red wine vinegar'), (None, '', 'oregano')], 'Shakshuka': [(1, '', 'onion'), (1, '', 'bell pepper'), (3, '', 'garlic cloves'), (400, 'g', 'tomato pure'), (4, '', 'eggs'), (30, 'ml', 'olive oil'), (None, '', 'cumin'), (None, '', 'paprika'), (None, '', 'parsley')], 'Grilled Lamb Chops with Tzatziki': [(4, '', 'lamb chops'), (150, 'g', 'yogurt'), (1, '', 'cucumber'), (2, '', 'garlic cloves'), (10, 'ml', 'lemon juic'), (30, 'ml', 'olive oil'), (None, '', 'fresh mint'), (None, '', 'dill')], 'Spanakopita': [(500, 'g', 'spinach'), (200, 'g', 'feta chees'), (1, '', 'onion'), (2, '', 'garlic cloves'), (1, '', 'egg'), (8, '', 'phyllo dough sheets'), (50, 'g', 'butter'), (30, 'ml', 'olive oil')], 'Falafel Wrap': [(200, 'g', 'chickpea'), (1, '', 'onion'), (3, '', 'garlic cloves'), (30, 'g', 'flour'), (10, 'g', 'parsley'), (30, 'ml', 'olive oil'), (4, '', 'tortilla wraps'), (50, 'g', 'tahini sauc'), (None, '', 'lettuce leaves'), (None, '', 'tomato slices')], 'Hummus and Pita Bread': [(200, 'g', 'chickpea'), (2, '', 'garlic cloves'), (30, 'ml', 'tahini'), (30, 'ml', 'lemon juic'), (50, 'ml', 'olive oil'), (4, '', 'pita bread'), (None, '', 'paprika'), (None, '', 'cumin')], 'Tabbouleh': [(100, 'g', 'bulgur wheat'), (2, '', 'tomatoes'), (1, '', 'cucumber'), (30, 'g', 'parsley'), (10, 'g', 'mint'), (30, 'ml', 'olive oil'), (10, 'ml', 'lemon juic'), (None, '', 'green onions')], 'Stuffed Bell Peppers': [(4, '', 'bell peppers'), (200, 'g', 'ground beef'), (100, 'g', 'rice'), (1, '', 'onion'), (2, '', 'garlic cloves'), (400, 'g', 'tomato sauc'), (30, 'ml', 'olive oil'), (50, 'g', 'feta chees'), (None, '', 'parsley')], 'Mediterranean Grilled Vegetables': [(1, '', 'zucchini'), (1, '', 'eggplant'), (1, '', 'bell pepper'), (1, '', 'red onion'), (30, 'ml', 'olive oil'), (10, 'ml', 'balsamic vinegar'), (None, '', 'thyme'), (None, '', 'oregano')], 'Seafood Paella': [(200, 'g', 'shrimp'), (200, 'g', 'mussel'), (300, 'g', 'paella ric'), (1, '', 'onion'), (3, '', 'garlic cloves'), (1, 'l', 'fish stock'), (100, 'g', 'pea'), (1, '', 'bell pepper'), (30, 'ml', 'olive oil'), (None, '', 'saffron')]}\n"
     ]
    }
   ],
   "source": [
    "available_meals = {\n",
    "    \"Tomato soup and cheese bread\": [(500, \"g\", \"tomatoes\"), (2, \"\", \"onions\"), (3, \"\", \"garlic cloves\"), (30, \"ml\", \"olive oil\"), (4, \"slices\", \"bread\"), (4, \"sclices\", \"gouda cheese\")], #TODO: optional ingridients\n",
    "    \"Aglio olio\": [(3, \"\", \"garlic cloves\"), (30, \"ml\", \"olive oil\"), (350, \"g\", \"pasta\"), (None, \"\", \"parsley\")],\n",
    "    \"Chicken Caesar Salad\": [(200, \"g\", \"chicken breast\"), (100, \"g\", \"romaine lettuce\"), (50, \"g\", \"croutons\"), (50, \"g\", \"parmesan cheese\"), (30, \"ml\", \"Caesar dressing\"), (2, \"\", \"boiled eggs\"), (20, \"ml\", \"olive oil\")],\n",
    "    \"Spaghetti Bolognese\": [(400, \"g\", \"ground beef\"), (500, \"g\", \"spaghetti\"), (1, \"can\", \"tomato sauce\"), (1, \"\", \"onion\"), (2, \"\", \"garlic cloves\"), (30, \"ml\", \"olive oil\"), (None, \"\", \"fresh basil\")],\n",
    "    \"Vegetable Stir Fry\": [(200, \"g\", \"broccoli\"), (1, \"\", \"carrot\"), (1, \"\", \"bell pepper\"), (100, \"g\", \"snap peas\"), (2, \"\", \"garlic cloves\"), (30, \"ml\", \"soy sauce\"), (10, \"ml\", \"sesame oil\"), (None, \"\", \"green onions\")],\n",
    "    \"Beef Tacos\": [(300, \"g\", \"ground beef\"), (6, \"\", \"taco shells\"), (100, \"g\", \"cheddar cheese\"), (50, \"g\", \"lettuce\"), (2, \"\", \"tomatoes\"), (30, \"ml\", \"sour cream\"), (None, \"\", \"taco seasoning\")],\n",
    "    \"Grilled Salmon with Asparagus\": [(200, \"g\", \"salmon fillet\"), (150, \"g\", \"asparagus\"), (1, \"\", \"lemon\"), (30, \"ml\", \"olive oil\"), (None, \"\", \"fresh dill\"), (None, \"\", \"salt and pepper\")],\n",
    "    \"Mushroom Risotto\": [(300, \"g\", \"arborio rice\"), (200, \"g\", \"mushrooms\"), (1, \"\", \"onion\"), (2, \"\", \"garlic cloves\"), (50, \"g\", \"parmesan cheese\"), (30, \"ml\", \"olive oil\"), (750, \"ml\", \"vegetable broth\")],\n",
    "    \"Caprese Salad\": [(2, \"\", \"tomatoes\"), (150, \"g\", \"mozzarella cheese\"), (30, \"ml\", \"olive oil\"), (None, \"\", \"basil leaves\"), (None, \"\", \"balsamic glaze\")],\n",
    "    \"Greek Salad\": [(2, \"\", \"tomatoes\"), (1, \"\", \"cucumber\"), (1, \"\", \"red onion\"), (100, \"g\", \"feta cheese\"), (50, \"g\", \"kalamata olives\"), (30, \"ml\", \"olive oil\"), (10, \"ml\", \"red wine vinegar\"), (None, \"\", \"oregano\")],\n",
    "    \"Shakshuka\": [(1, \"\", \"onion\"), (1, \"\", \"bell pepper\"), (3, \"\", \"garlic cloves\"), (400, \"g\", \"tomato puree\"), (4, \"\", \"eggs\"), (30, \"ml\", \"olive oil\"), (None, \"\", \"cumin\"), (None, \"\", \"paprika\"), (None, \"\", \"parsley\")],\n",
    "    \"Grilled Lamb Chops with Tzatziki\": [(4, \"\", \"lamb chops\"), (150, \"g\", \"yogurt\"), (1, \"\", \"cucumber\"), (2, \"\", \"garlic cloves\"), (10, \"ml\", \"lemon juice\"), (30, \"ml\", \"olive oil\"), (None, \"\", \"fresh mint\"), (None, \"\", \"dill\")],\n",
    "    \"Spanakopita\": [(500, \"g\", \"spinach\"), (200, \"g\", \"feta cheese\"), (1, \"\", \"onion\"), (2, \"\", \"garlic cloves\"), (1, \"\", \"egg\"), (8, \"\", \"phyllo dough sheets\"), (50, \"g\", \"butter\"), (30, \"ml\", \"olive oil\")],\n",
    "    \"Falafel Wrap\": [(200, \"g\", \"chickpeas\"), (1, \"\", \"onion\"), (3, \"\", \"garlic cloves\"), (30, \"g\", \"flour\"), (10, \"g\", \"parsley\"), (30, \"ml\", \"olive oil\"), (4, \"\", \"tortilla wraps\"), (50, \"g\", \"tahini sauce\"), (None, \"\", \"lettuce leaves\"), (None, \"\", \"tomato slices\")],\n",
    "    \"Hummus and Pita Bread\": [(200, \"g\", \"chickpeas\"), (2, \"\", \"garlic cloves\"), (30, \"ml\", \"tahini\"), (30, \"ml\", \"lemon juice\"), (50, \"ml\", \"olive oil\"), (4, \"\", \"pita bread\"), (None, \"\", \"paprika\"), (None, \"\", \"cumin\")],\n",
    "    \"Tabbouleh\": [(100, \"g\", \"bulgur wheat\"), (2, \"\", \"tomatoes\"), (1, \"\", \"cucumber\"), (30, \"g\", \"parsley\"), (10, \"g\", \"mint\"), (30, \"ml\", \"olive oil\"), (10, \"ml\", \"lemon juice\"), (None, \"\", \"green onions\")],\n",
    "    \"Stuffed Bell Peppers\": [(4, \"\", \"bell peppers\"), (200, \"g\", \"ground beef\"), (100, \"g\", \"rice\"), (1, \"\", \"onion\"), (2, \"\", \"garlic cloves\"), (400, \"g\", \"tomato sauce\"), (30, \"ml\", \"olive oil\"), (50, \"g\", \"feta cheese\"), (None, \"\", \"parsley\")],\n",
    "    \"Mediterranean Grilled Vegetables\": [(1, \"\", \"zucchini\"), (1, \"\", \"eggplant\"), (1, \"\", \"bell pepper\"), (1, \"\", \"red onion\"), (30, \"ml\", \"olive oil\"), (10, \"ml\", \"balsamic vinegar\"), (None, \"\", \"thyme\"), (None, \"\", \"oregano\")],\n",
    "    \"Seafood Paella\": [(200, \"g\", \"shrimp\"), (200, \"g\", \"mussels\"), (300, \"g\", \"paella rice\"), (1, \"\", \"onion\"), (3, \"\", \"garlic cloves\"), (1, \"l\", \"fish stock\"), (100, \"g\", \"peas\"), (1, \"\", \"bell pepper\"), (30, \"ml\", \"olive oil\"), (None, \"\", \"saffron\")]\n",
    "}\n",
    "\n",
    "porter_stemmer = nltk.stem.SnowballStemmer(\"english\")\n",
    "\n",
    "for key, array in available_meals.items():\n",
    "    for i, (a, b, c) in enumerate(array):\n",
    "        if b != \"\":\n",
    "            stemmed_c = porter_stemmer.stem(c)\n",
    "            array[i] = (a, b, stemmed_c)\n",
    "\n",
    "print(available_meals)"
   ]
  },
  {
   "cell_type": "code",
   "execution_count": 4,
   "metadata": {},
   "outputs": [
    {
     "name": "stderr",
     "output_type": "stream",
     "text": [
      "[nltk_data] Downloading package wordnet to\n",
      "[nltk_data]     C:\\Users\\pasca\\AppData\\Roaming\\nltk_data...\n",
      "[nltk_data]   Package wordnet is already up-to-date!\n"
     ]
    },
    {
     "name": "stdout",
     "output_type": "stream",
     "text": [
      "{'Tomato soup and cheese bread': [(500, 'g', 'tomato'), (2, '', 'onions'), (3, '', 'garlic cloves'), (30, 'ml', 'olive oil'), (4, 'slices', 'bread'), (4, 'sclices', 'gouda cheese')], 'Aglio olio': [(3, '', 'garlic cloves'), (30, 'ml', 'olive oil'), (350, 'g', 'pasta'), (None, '', 'parsley')], 'Chicken Caesar Salad': [(200, 'g', 'chicken breast'), (100, 'g', 'romaine lettuce'), (50, 'g', 'crouton'), (50, 'g', 'parmesan cheese'), (30, 'ml', 'Caesar dressing'), (2, '', 'boiled eggs'), (20, 'ml', 'olive oil')], 'Spaghetti Bolognese': [(400, 'g', 'ground beef'), (500, 'g', 'spaghetti'), (1, 'can', 'tomato sauce'), (1, '', 'onion'), (2, '', 'garlic cloves'), (30, 'ml', 'olive oil'), (None, '', 'fresh basil')], 'Vegetable Stir Fry': [(200, 'g', 'broccoli'), (1, '', 'carrot'), (1, '', 'bell pepper'), (100, 'g', 'snap peas'), (2, '', 'garlic cloves'), (30, 'ml', 'soy sauce'), (10, 'ml', 'sesame oil'), (None, '', 'green onions')], 'Beef Tacos': [(300, 'g', 'ground beef'), (6, '', 'taco shells'), (100, 'g', 'cheddar cheese'), (50, 'g', 'lettuce'), (2, '', 'tomatoes'), (30, 'ml', 'sour cream'), (None, '', 'taco seasoning')], 'Grilled Salmon with Asparagus': [(200, 'g', 'salmon fillet'), (150, 'g', 'asparagus'), (1, '', 'lemon'), (30, 'ml', 'olive oil'), (None, '', 'fresh dill'), (None, '', 'salt and pepper')], 'Mushroom Risotto': [(300, 'g', 'arborio rice'), (200, 'g', 'mushroom'), (1, '', 'onion'), (2, '', 'garlic cloves'), (50, 'g', 'parmesan cheese'), (30, 'ml', 'olive oil'), (750, 'ml', 'vegetable broth')], 'Caprese Salad': [(2, '', 'tomatoes'), (150, 'g', 'mozzarella cheese'), (30, 'ml', 'olive oil'), (None, '', 'basil leaves'), (None, '', 'balsamic glaze')], 'Greek Salad': [(2, '', 'tomatoes'), (1, '', 'cucumber'), (1, '', 'red onion'), (100, 'g', 'feta cheese'), (50, 'g', 'kalamata olives'), (30, 'ml', 'olive oil'), (10, 'ml', 'red wine vinegar'), (None, '', 'oregano')], 'Shakshuka': [(1, '', 'onion'), (1, '', 'bell pepper'), (3, '', 'garlic cloves'), (400, 'g', 'tomato puree'), (4, '', 'eggs'), (30, 'ml', 'olive oil'), (None, '', 'cumin'), (None, '', 'paprika'), (None, '', 'parsley')], 'Grilled Lamb Chops with Tzatziki': [(4, '', 'lamb chops'), (150, 'g', 'yogurt'), (1, '', 'cucumber'), (2, '', 'garlic cloves'), (10, 'ml', 'lemon juice'), (30, 'ml', 'olive oil'), (None, '', 'fresh mint'), (None, '', 'dill')], 'Spanakopita': [(500, 'g', 'spinach'), (200, 'g', 'feta cheese'), (1, '', 'onion'), (2, '', 'garlic cloves'), (1, '', 'egg'), (8, '', 'phyllo dough sheets'), (50, 'g', 'butter'), (30, 'ml', 'olive oil')], 'Falafel Wrap': [(200, 'g', 'chickpea'), (1, '', 'onion'), (3, '', 'garlic cloves'), (30, 'g', 'flour'), (10, 'g', 'parsley'), (30, 'ml', 'olive oil'), (4, '', 'tortilla wraps'), (50, 'g', 'tahini sauce'), (None, '', 'lettuce leaves'), (None, '', 'tomato slices')], 'Hummus and Pita Bread': [(200, 'g', 'chickpea'), (2, '', 'garlic cloves'), (30, 'ml', 'tahini'), (30, 'ml', 'lemon juice'), (50, 'ml', 'olive oil'), (4, '', 'pita bread'), (None, '', 'paprika'), (None, '', 'cumin')], 'Tabbouleh': [(100, 'g', 'bulgur wheat'), (2, '', 'tomatoes'), (1, '', 'cucumber'), (30, 'g', 'parsley'), (10, 'g', 'mint'), (30, 'ml', 'olive oil'), (10, 'ml', 'lemon juice'), (None, '', 'green onions')], 'Stuffed Bell Peppers': [(4, '', 'bell peppers'), (200, 'g', 'ground beef'), (100, 'g', 'rice'), (1, '', 'onion'), (2, '', 'garlic cloves'), (400, 'g', 'tomato sauce'), (30, 'ml', 'olive oil'), (50, 'g', 'feta cheese'), (None, '', 'parsley')], 'Mediterranean Grilled Vegetables': [(1, '', 'zucchini'), (1, '', 'eggplant'), (1, '', 'bell pepper'), (1, '', 'red onion'), (30, 'ml', 'olive oil'), (10, 'ml', 'balsamic vinegar'), (None, '', 'thyme'), (None, '', 'oregano')], 'Seafood Paella': [(200, 'g', 'shrimp'), (200, 'g', 'mussel'), (300, 'g', 'paella rice'), (1, '', 'onion'), (3, '', 'garlic cloves'), (1, 'l', 'fish stock'), (100, 'g', 'pea'), (1, '', 'bell pepper'), (30, 'ml', 'olive oil'), (None, '', 'saffron')]}\n"
     ]
    }
   ],
   "source": [
    "available_meals = {\n",
    "    \"Tomato soup and cheese bread\": [(500, \"g\", \"tomatoes\"), (2, \"\", \"onions\"), (3, \"\", \"garlic cloves\"), (30, \"ml\", \"olive oil\"), (4, \"slices\", \"bread\"), (4, \"sclices\", \"gouda cheese\")], #TODO: optional ingridients\n",
    "    \"Aglio olio\": [(3, \"\", \"garlic cloves\"), (30, \"ml\", \"olive oil\"), (350, \"g\", \"pasta\"), (None, \"\", \"parsley\")],\n",
    "    \"Chicken Caesar Salad\": [(200, \"g\", \"chicken breast\"), (100, \"g\", \"romaine lettuce\"), (50, \"g\", \"croutons\"), (50, \"g\", \"parmesan cheese\"), (30, \"ml\", \"Caesar dressing\"), (2, \"\", \"boiled eggs\"), (20, \"ml\", \"olive oil\")],\n",
    "    \"Spaghetti Bolognese\": [(400, \"g\", \"ground beef\"), (500, \"g\", \"spaghetti\"), (1, \"can\", \"tomato sauce\"), (1, \"\", \"onion\"), (2, \"\", \"garlic cloves\"), (30, \"ml\", \"olive oil\"), (None, \"\", \"fresh basil\")],\n",
    "    \"Vegetable Stir Fry\": [(200, \"g\", \"broccoli\"), (1, \"\", \"carrot\"), (1, \"\", \"bell pepper\"), (100, \"g\", \"snap peas\"), (2, \"\", \"garlic cloves\"), (30, \"ml\", \"soy sauce\"), (10, \"ml\", \"sesame oil\"), (None, \"\", \"green onions\")],\n",
    "    \"Beef Tacos\": [(300, \"g\", \"ground beef\"), (6, \"\", \"taco shells\"), (100, \"g\", \"cheddar cheese\"), (50, \"g\", \"lettuce\"), (2, \"\", \"tomatoes\"), (30, \"ml\", \"sour cream\"), (None, \"\", \"taco seasoning\")],\n",
    "    \"Grilled Salmon with Asparagus\": [(200, \"g\", \"salmon fillet\"), (150, \"g\", \"asparagus\"), (1, \"\", \"lemon\"), (30, \"ml\", \"olive oil\"), (None, \"\", \"fresh dill\"), (None, \"\", \"salt and pepper\")],\n",
    "    \"Mushroom Risotto\": [(300, \"g\", \"arborio rice\"), (200, \"g\", \"mushrooms\"), (1, \"\", \"onion\"), (2, \"\", \"garlic cloves\"), (50, \"g\", \"parmesan cheese\"), (30, \"ml\", \"olive oil\"), (750, \"ml\", \"vegetable broth\")],\n",
    "    \"Caprese Salad\": [(2, \"\", \"tomatoes\"), (150, \"g\", \"mozzarella cheese\"), (30, \"ml\", \"olive oil\"), (None, \"\", \"basil leaves\"), (None, \"\", \"balsamic glaze\")],\n",
    "    \"Greek Salad\": [(2, \"\", \"tomatoes\"), (1, \"\", \"cucumber\"), (1, \"\", \"red onion\"), (100, \"g\", \"feta cheese\"), (50, \"g\", \"kalamata olives\"), (30, \"ml\", \"olive oil\"), (10, \"ml\", \"red wine vinegar\"), (None, \"\", \"oregano\")],\n",
    "    \"Shakshuka\": [(1, \"\", \"onion\"), (1, \"\", \"bell pepper\"), (3, \"\", \"garlic cloves\"), (400, \"g\", \"tomato puree\"), (4, \"\", \"eggs\"), (30, \"ml\", \"olive oil\"), (None, \"\", \"cumin\"), (None, \"\", \"paprika\"), (None, \"\", \"parsley\")],\n",
    "    \"Grilled Lamb Chops with Tzatziki\": [(4, \"\", \"lamb chops\"), (150, \"g\", \"yogurt\"), (1, \"\", \"cucumber\"), (2, \"\", \"garlic cloves\"), (10, \"ml\", \"lemon juice\"), (30, \"ml\", \"olive oil\"), (None, \"\", \"fresh mint\"), (None, \"\", \"dill\")],\n",
    "    \"Spanakopita\": [(500, \"g\", \"spinach\"), (200, \"g\", \"feta cheese\"), (1, \"\", \"onion\"), (2, \"\", \"garlic cloves\"), (1, \"\", \"egg\"), (8, \"\", \"phyllo dough sheets\"), (50, \"g\", \"butter\"), (30, \"ml\", \"olive oil\")],\n",
    "    \"Falafel Wrap\": [(200, \"g\", \"chickpeas\"), (1, \"\", \"onion\"), (3, \"\", \"garlic cloves\"), (30, \"g\", \"flour\"), (10, \"g\", \"parsley\"), (30, \"ml\", \"olive oil\"), (4, \"\", \"tortilla wraps\"), (50, \"g\", \"tahini sauce\"), (None, \"\", \"lettuce leaves\"), (None, \"\", \"tomato slices\")],\n",
    "    \"Hummus and Pita Bread\": [(200, \"g\", \"chickpeas\"), (2, \"\", \"garlic cloves\"), (30, \"ml\", \"tahini\"), (30, \"ml\", \"lemon juice\"), (50, \"ml\", \"olive oil\"), (4, \"\", \"pita bread\"), (None, \"\", \"paprika\"), (None, \"\", \"cumin\")],\n",
    "    \"Tabbouleh\": [(100, \"g\", \"bulgur wheat\"), (2, \"\", \"tomatoes\"), (1, \"\", \"cucumber\"), (30, \"g\", \"parsley\"), (10, \"g\", \"mint\"), (30, \"ml\", \"olive oil\"), (10, \"ml\", \"lemon juice\"), (None, \"\", \"green onions\")],\n",
    "    \"Stuffed Bell Peppers\": [(4, \"\", \"bell peppers\"), (200, \"g\", \"ground beef\"), (100, \"g\", \"rice\"), (1, \"\", \"onion\"), (2, \"\", \"garlic cloves\"), (400, \"g\", \"tomato sauce\"), (30, \"ml\", \"olive oil\"), (50, \"g\", \"feta cheese\"), (None, \"\", \"parsley\")],\n",
    "    \"Mediterranean Grilled Vegetables\": [(1, \"\", \"zucchini\"), (1, \"\", \"eggplant\"), (1, \"\", \"bell pepper\"), (1, \"\", \"red onion\"), (30, \"ml\", \"olive oil\"), (10, \"ml\", \"balsamic vinegar\"), (None, \"\", \"thyme\"), (None, \"\", \"oregano\")],\n",
    "    \"Seafood Paella\": [(200, \"g\", \"shrimp\"), (200, \"g\", \"mussels\"), (300, \"g\", \"paella rice\"), (1, \"\", \"onion\"), (3, \"\", \"garlic cloves\"), (1, \"l\", \"fish stock\"), (100, \"g\", \"peas\"), (1, \"\", \"bell pepper\"), (30, \"ml\", \"olive oil\"), (None, \"\", \"saffron\")]\n",
    "}\n",
    "\n",
    "from nltk.corpus import wordnet\n",
    "from nltk.stem import WordNetLemmatizer\n",
    "\n",
    "nltk.download('wordnet')\n",
    "\n",
    "lemmatizer = WordNetLemmatizer()\n",
    "\n",
    "def lemmatize_ingredient(word):\n",
    "    return lemmatizer.lemmatize(word, pos=wordnet.NOUN)\n",
    "\n",
    "for key, array in available_meals.items():\n",
    "    for i, (a, b, c) in enumerate(array):\n",
    "        if b != \"\":\n",
    "            stemmed_c = lemmatize_ingredient(c)\n",
    "            array[i] = (a, b, stemmed_c)\n",
    "\n",
    "print(available_meals)"
   ]
  },
  {
   "cell_type": "markdown",
   "metadata": {},
   "source": [
    "# Conclusion\n",
    "\n",
    "The WordNetLemmatizer works the best for our ingridient list here. So I'll be using it for now."
   ]
  }
 ],
 "metadata": {
  "kernelspec": {
   "display_name": "Python 3",
   "language": "python",
   "name": "python3"
  },
  "language_info": {
   "codemirror_mode": {
    "name": "ipython",
    "version": 3
   },
   "file_extension": ".py",
   "mimetype": "text/x-python",
   "name": "python",
   "nbconvert_exporter": "python",
   "pygments_lexer": "ipython3",
   "version": "3.11.2"
  }
 },
 "nbformat": 4,
 "nbformat_minor": 2
}
